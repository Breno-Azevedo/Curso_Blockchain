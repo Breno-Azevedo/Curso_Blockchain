{
 "cells": [
  {
   "cell_type": "markdown",
   "metadata": {},
   "source": [
    "# Understanding the use of the Merkle-Patricia tree in Ethereum\n",
    "\n",
    "Ethereum innovated when designing their blockchain, in many ways when compared to Bitcoin. One of them was the enhancing the kind of [Merkle tree](https://en.wikipedia.org/wiki/Merkle_tree) used within the blocks and how they [are used](https://blog.ethereum.org/2015/11/15/merkling-in-ethereum/).\n",
    "\n",
    "In Ethereum, in contrast to the Bitcoim blockchain, they use three Merkle trees inside each block:\n",
    "* one for transactions\n",
    "* another for receipts (data showing the effects of transactions)\n",
    "* and the third for the State\n",
    "\n",
    "<img src=\"ethblockchain_full.png\" width=50% />\n",
    "\n",
    "In this noteboook we will explore using python code how all this merkling works. For that you will need to install the `trie` package maintained byt the folks at Ethereum:\n",
    "\n",
    "```\n",
    "pip install --user trie\n",
    "```"
   ]
  },
  {
   "cell_type": "code",
   "execution_count": 1,
   "metadata": {
    "ExecuteTime": {
     "end_time": "2021-08-20T11:57:44.062479Z",
     "start_time": "2021-08-20T11:57:43.729098Z"
    }
   },
   "outputs": [],
   "source": [
    "from trie import HexaryTrie"
   ]
  },
  {
   "cell_type": "markdown",
   "metadata": {},
   "source": [
    "Let's start by creating an empty tree (or trie):"
   ]
  },
  {
   "cell_type": "code",
   "execution_count": 5,
   "metadata": {},
   "outputs": [
    {
     "data": {
      "text/plain": [
       "b'V\\xe8\\x1f\\x17\\x1b\\xccU\\xa6\\xff\\x83E\\xe6\\x92\\xc0\\xf8n[H\\xe0\\x1b\\x99l\\xad\\xc0\\x01b/\\xb5\\xe3c\\xb4!'"
      ]
     },
     "execution_count": 5,
     "metadata": {},
     "output_type": "execute_result"
    }
   ],
   "source": [
    "t = HexaryTrie(db={})\n",
    "t.root_hash"
   ]
  },
  {
   "cell_type": "markdown",
   "metadata": {},
   "source": [
    "The Hexary trie stores both keys and values, like a dictionary, and can be accessed like a dictionary."
   ]
  },
  {
   "cell_type": "code",
   "execution_count": 7,
   "metadata": {},
   "outputs": [],
   "source": [
    "t[b'my-key'] = b'some-value'"
   ]
  },
  {
   "cell_type": "code",
   "execution_count": 8,
   "metadata": {},
   "outputs": [
    {
     "data": {
      "text/plain": [
       "b'some-value'"
      ]
     },
     "execution_count": 8,
     "metadata": {},
     "output_type": "execute_result"
    }
   ],
   "source": [
    "t[b'my-key']"
   ]
  },
  {
   "cell_type": "code",
   "execution_count": 9,
   "metadata": {},
   "outputs": [
    {
     "data": {
      "text/plain": [
       "False"
      ]
     },
     "execution_count": 9,
     "metadata": {},
     "output_type": "execute_result"
    }
   ],
   "source": [
    "b'another-key' in t"
   ]
  },
  {
   "cell_type": "code",
   "execution_count": 10,
   "metadata": {},
   "outputs": [],
   "source": [
    "t[b'another-key']  = b'another-value'"
   ]
  },
  {
   "cell_type": "code",
   "execution_count": 11,
   "metadata": {},
   "outputs": [
    {
     "data": {
      "text/plain": [
       "True"
      ]
     },
     "execution_count": 11,
     "metadata": {},
     "output_type": "execute_result"
    }
   ],
   "source": [
    "b'another-key' in t"
   ]
  },
  {
   "cell_type": "code",
   "execution_count": 12,
   "metadata": {},
   "outputs": [
    {
     "data": {
      "text/plain": [
       "b'\\xe2\\xcc\\x05\\x18\\xb4\\x86\\xc9O\\xb0=Q\\xeb\\x90\\x7f\\x18\\xa6\\xa0\\x1eh\\xeb\\x8f\\xf0(r\\xa1:\\xfbn\\xeb\\xe6\\xcd\\x05'"
      ]
     },
     "execution_count": 12,
     "metadata": {},
     "output_type": "execute_result"
    }
   ],
   "source": [
    "t.root_hash"
   ]
  },
  {
   "cell_type": "markdown",
   "metadata": {},
   "source": [
    "But it also has a simple API with methods you can call in the tree"
   ]
  },
  {
   "cell_type": "code",
   "execution_count": 14,
   "metadata": {},
   "outputs": [
    {
     "data": {
      "text/plain": [
       "['BLANK_NODE',\n",
       " 'BLANK_NODE_HASH',\n",
       " 'db',\n",
       " 'delete',\n",
       " 'exists',\n",
       " 'get',\n",
       " 'get_from_proof',\n",
       " 'get_node',\n",
       " 'is_pruning',\n",
       " 'root_hash',\n",
       " 'root_node',\n",
       " 'set',\n",
       " 'squash_changes']"
      ]
     },
     "execution_count": 14,
     "metadata": {},
     "output_type": "execute_result"
    }
   ],
   "source": [
    "[m for m in dir(t) if not m.startswith('_')]"
   ]
  },
  {
   "cell_type": "code",
   "execution_count": 12,
   "metadata": {},
   "outputs": [],
   "source": [
    "t.set(b'my-key2',b'second value')"
   ]
  },
  {
   "cell_type": "code",
   "execution_count": 13,
   "metadata": {},
   "outputs": [
    {
     "data": {
      "text/plain": [
       "True"
      ]
     },
     "execution_count": 13,
     "metadata": {},
     "output_type": "execute_result"
    }
   ],
   "source": [
    "t.exists(b'my-key2')"
   ]
  },
  {
   "cell_type": "code",
   "execution_count": 14,
   "metadata": {},
   "outputs": [
    {
     "data": {
      "text/plain": [
       "b'second value'"
      ]
     },
     "execution_count": 14,
     "metadata": {},
     "output_type": "execute_result"
    }
   ],
   "source": [
    "t.get(b'my-key2')"
   ]
  },
  {
   "cell_type": "code",
   "execution_count": 15,
   "metadata": {},
   "outputs": [
    {
     "data": {
      "text/plain": [
       "\u001b[0;31mType:\u001b[0m        HexaryTrie\n",
       "\u001b[0;31mString form:\u001b[0m <trie.hexary.HexaryTrie object at 0x7f9404480a88>\n",
       "\u001b[0;31mFile:\u001b[0m        /usr/local/lib/python3.6/dist-packages/trie/hexary.py\n",
       "\u001b[0;31mDocstring:\u001b[0m   <no docstring>\n"
      ]
     },
     "metadata": {},
     "output_type": "display_data"
    }
   ],
   "source": [
    "t."
   ]
  },
  {
   "cell_type": "code",
   "execution_count": 16,
   "metadata": {},
   "outputs": [
    {
     "data": {
      "text/plain": [
       "{b'\\xeaQI\\xc7r\\x16\\xea?\\x95\\\\\\x13\\x85]\\x97\\x8dPJP4-\\xd0\\xbb6\\xcf\\x00\\xa5J\\x01$N3\\xea': b'\\xd3\\x87 my-key\\x8asome-value',\n",
       " b'\\x89;o\\xde\\xe4\\x1b$\\x9d\\xa8\\xbe\\xcd1\\x02\\x98\\r\\x816\\xe1v\\x0b\\x9d\\x04\\x13\\xfa\\x121M\\xa5\\x15\\x82\\xa4\\xb1': b'\\xf8=\\x80\\xda\\x8b nother-key\\x8danother-value\\x80\\x80\\x80\\x80\\x80\\x80\\x80\\x80\\x80\\x80\\x80\\xd2\\x86 y-key\\x8asome-value\\x80\\x80\\x80',\n",
       " b'\\xe2\\xcc\\x05\\x18\\xb4\\x86\\xc9O\\xb0=Q\\xeb\\x90\\x7f\\x18\\xa6\\xa0\\x1eh\\xeb\\x8f\\xf0(r\\xa1:\\xfbn\\xeb\\xe6\\xcd\\x05': b'\\xe2\\x16\\xa0\\x89;o\\xde\\xe4\\x1b$\\x9d\\xa8\\xbe\\xcd1\\x02\\x98\\r\\x816\\xe1v\\x0b\\x9d\\x04\\x13\\xfa\\x121M\\xa5\\x15\\x82\\xa4\\xb1',\n",
       " b'\\xe0M\\x1f\\xfd\\xf2\\x1a\\x13V\\xc1\\\\\\xf08\\x85\\x04\\x94\\xbf\\xe7\\xdb\\x13\\xcea\\xc98\\xfe\\xc5\\xe9\\x85t\\x15\\xf5\\xaf\\r': b'\\xe9\\x80\\x80\\x80\\xce2\\x8csecond value\\x80\\x80\\x80\\x80\\x80\\x80\\x80\\x80\\x80\\x80\\x80\\x80\\x8asome-value',\n",
       " b'\\x12\\xa5H\\x8c\\x03s\\xab\\xf9\\x13\\x87:\\x03\\xfb\\xb4\\xca\\xb2\\x87W\\xc6\\xbb\\x89\\xd2\\x9b\\xe6z\\x8a\\xc8\\xde\\xf4\\xa8\\xd3t': b'\\xe8\\x86\\x00y-key\\xa0\\xe0M\\x1f\\xfd\\xf2\\x1a\\x13V\\xc1\\\\\\xf08\\x85\\x04\\x94\\xbf\\xe7\\xdb\\x13\\xcea\\xc98\\xfe\\xc5\\xe9\\x85t\\x15\\xf5\\xaf\\r',\n",
       " b'\\x1aR,\\x98\\x88\\x84\\xa6\\x04\\xad(AA{\\x88\\xf1mS\\xb1\\\\\\xd1\\x08\\xad\\x96\\xaf\\xde\\x85\\xcb@\\x89\\xac\\x82\\xf9': b'\\xf8K\\x80\\xda\\x8b nother-key\\x8danother-value\\x80\\x80\\x80\\x80\\x80\\x80\\x80\\x80\\x80\\x80\\x80\\xa0\\x12\\xa5H\\x8c\\x03s\\xab\\xf9\\x13\\x87:\\x03\\xfb\\xb4\\xca\\xb2\\x87W\\xc6\\xbb\\x89\\xd2\\x9b\\xe6z\\x8a\\xc8\\xde\\xf4\\xa8\\xd3t\\x80\\x80\\x80',\n",
       " b'\\xe8\\xab\\x07\\x9a\\xca\\xd6\\x98\\xc2-w\\xa5\\x02\\xac\\xd6\\xe4i\\x82\\xd7\\xb1\\xfcF\\xd6\\xf475\\xd2\\x9117\\xdcD|': b'\\xe2\\x16\\xa0\\x1aR,\\x98\\x88\\x84\\xa6\\x04\\xad(AA{\\x88\\xf1mS\\xb1\\\\\\xd1\\x08\\xad\\x96\\xaf\\xde\\x85\\xcb@\\x89\\xac\\x82\\xf9'}"
      ]
     },
     "execution_count": 16,
     "metadata": {},
     "output_type": "execute_result"
    }
   ],
   "source": [
    "t.db"
   ]
  },
  {
   "cell_type": "code",
   "execution_count": null,
   "metadata": {},
   "outputs": [],
   "source": []
  }
 ],
 "metadata": {
  "hide_input": false,
  "kernelspec": {
   "display_name": "Python 3",
   "language": "python",
   "name": "python3"
  },
  "language_info": {
   "codemirror_mode": {
    "name": "ipython",
    "version": 3
   },
   "file_extension": ".py",
   "mimetype": "text/x-python",
   "name": "python",
   "nbconvert_exporter": "python",
   "pygments_lexer": "ipython3",
   "version": "3.8.10"
  },
  "latex_envs": {
   "LaTeX_envs_menu_present": true,
   "autoclose": false,
   "autocomplete": true,
   "bibliofile": "biblio.bib",
   "cite_by": "apalike",
   "current_citInitial": 1,
   "eqLabelWithNumbers": true,
   "eqNumInitial": 1,
   "hotkeys": {
    "equation": "Ctrl-E",
    "itemize": "Ctrl-I"
   },
   "labels_anchors": false,
   "latex_user_defs": false,
   "report_style_numbering": false,
   "user_envs_cfg": false
  },
  "nbTranslate": {
   "displayLangs": [
    "*"
   ],
   "hotkey": "alt-t",
   "langInMainMenu": true,
   "sourceLang": "en",
   "targetLang": "fr",
   "useGoogleTranslate": true
  },
  "toc": {
   "base_numbering": 1,
   "nav_menu": {},
   "number_sections": true,
   "sideBar": true,
   "skip_h1_title": false,
   "title_cell": "Table of Contents",
   "title_sidebar": "Contents",
   "toc_cell": false,
   "toc_position": {},
   "toc_section_display": true,
   "toc_window_display": false
  },
  "varInspector": {
   "cols": {
    "lenName": 16,
    "lenType": 16,
    "lenVar": 40
   },
   "kernels_config": {
    "python": {
     "delete_cmd_postfix": "",
     "delete_cmd_prefix": "del ",
     "library": "var_list.py",
     "varRefreshCmd": "print(var_dic_list())"
    },
    "r": {
     "delete_cmd_postfix": ") ",
     "delete_cmd_prefix": "rm(",
     "library": "var_list.r",
     "varRefreshCmd": "cat(var_dic_list()) "
    }
   },
   "types_to_exclude": [
    "module",
    "function",
    "builtin_function_or_method",
    "instance",
    "_Feature"
   ],
   "window_display": false
  }
 },
 "nbformat": 4,
 "nbformat_minor": 2
}
