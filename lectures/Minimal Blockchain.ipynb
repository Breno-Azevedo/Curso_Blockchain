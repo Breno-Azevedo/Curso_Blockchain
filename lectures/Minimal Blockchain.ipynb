{
 "cells": [
  {
   "cell_type": "markdown",
   "metadata": {},
   "source": [
    "# Creating a minimal Blockchain\n",
    "This notebook is based on [this blog post](https://medium.com/crypto-currently/lets-build-the-tiniest-blockchain-e70965a248b)"
   ]
  },
  {
   "cell_type": "code",
   "execution_count": 3,
   "metadata": {},
   "outputs": [],
   "source": [
    "import hashlib as hasher\n",
    "import datetime as date"
   ]
  },
  {
   "cell_type": "code",
   "execution_count": 4,
   "metadata": {},
   "outputs": [],
   "source": [
    "class Block:\n",
    "    def __init__(self, index, timestamp, data, previous_hash):\n",
    "        self.index = index\n",
    "        self.timestamp = timestamp\n",
    "        self.data = data\n",
    "        self.previous_hash = previous_hash\n",
    "        self.hash = self.hash_block()\n",
    "\n",
    "    def hash_block(self):\n",
    "        sha = hasher.sha256()\n",
    "        sha.update(str(self.index).encode('utf8') +\n",
    "                   str(self.timestamp).encode('utf8') +\n",
    "                   str(self.data).encode('utf8') +\n",
    "                   str(self.previous_hash).encode('utf8'))\n",
    "        return sha.hexdigest()\n"
   ]
  },
  {
   "cell_type": "code",
   "execution_count": 5,
   "metadata": {},
   "outputs": [],
   "source": [
    "def create_genesis_block():\n",
    "    '''\n",
    "    Manually construct a block with\n",
    "    index zero and arbitrary previous hash\n",
    "    '''\n",
    "    return Block(0, date.datetime.now(), \"Genesis Block\", \"0\")"
   ]
  },
  {
   "cell_type": "code",
   "execution_count": 6,
   "metadata": {},
   "outputs": [],
   "source": [
    "def next_block(last_block):\n",
    "    this_index = last_block.index + 1\n",
    "    this_timestamp = date.datetime.now()\n",
    "    this_data = \"Hey! I'm block \" + str(this_index)\n",
    "    this_hash = last_block.hash\n",
    "    return Block(this_index, this_timestamp, this_data, this_hash)"
   ]
  },
  {
   "cell_type": "code",
   "execution_count": 7,
   "metadata": {},
   "outputs": [
    {
     "name": "stdout",
     "output_type": "stream",
     "text": [
      "Block #1 has been added to the blockchain!\n",
      "Hash: 67f435dc9b90c634d653af140ea546daa45a3007648f9788e4392eae9a4a84dd\n",
      "\n",
      "Block #2 has been added to the blockchain!\n",
      "Hash: 4a1d5073a934767439511e9136537ffab63cbcef90115691c76deb19d94197e9\n",
      "\n",
      "Block #3 has been added to the blockchain!\n",
      "Hash: 1855d15beb710bf955c5b3fc3373bca67d6ad306913318a07b76bfd8df0eeb06\n",
      "\n",
      "Block #4 has been added to the blockchain!\n",
      "Hash: 4fe99d631eeded5f1024a8f86539069178bf75d56e71be62bb41c177bf94f31c\n",
      "\n",
      "Block #5 has been added to the blockchain!\n",
      "Hash: a71c1dbe73bbf2063e233fb25b2e6a6af6f8fa48c53fd043898e15beeb3f7bc6\n",
      "\n",
      "Block #6 has been added to the blockchain!\n",
      "Hash: e7af81a1244ebcebec7e88883886adfc206f78d6c48ba8fdcd15a1879d4a3a87\n",
      "\n",
      "Block #7 has been added to the blockchain!\n",
      "Hash: 04aab91b4b78d5d208d390b9eb8690228c295c704fa7969534ff98368ade499e\n",
      "\n",
      "Block #8 has been added to the blockchain!\n",
      "Hash: 1776d232d5da5f71cfc124f893040bcacdb76c87e380ac4b8607a0d975be20df\n",
      "\n",
      "Block #9 has been added to the blockchain!\n",
      "Hash: 7833af4c25102fa61e853769313fda3deee2ccf20a3f2944644268c9e87e36a9\n",
      "\n",
      "Block #10 has been added to the blockchain!\n",
      "Hash: b0cf9a2e080fd7f91e815664337b0c6d80f5f40ac940ba7285fa3b0e39caba44\n",
      "\n",
      "Block #11 has been added to the blockchain!\n",
      "Hash: 5209e4c7a035f3bc86dd536b3fe46360c80e0918f75efadad72ef6c5cc873dce\n",
      "\n",
      "Block #12 has been added to the blockchain!\n",
      "Hash: 1488bfb941af7d2979c0b47e9c7bc46ac437c72b1d981f6d5f155211e504d4be\n",
      "\n",
      "Block #13 has been added to the blockchain!\n",
      "Hash: e4d9595d91b722d554d60ad0b20f37850c26bf6b0e216ff0ab8fe195a9c54cef\n",
      "\n",
      "Block #14 has been added to the blockchain!\n",
      "Hash: 221b7a15e041be7491cdd7ff59a0e3c18e54f35960bb90739194483bc7b31b12\n",
      "\n",
      "Block #15 has been added to the blockchain!\n",
      "Hash: de939bae656ee242d2ed91a83be99aac400a5fe380166d18ca9aa09fb5b2d5ec\n",
      "\n",
      "Block #16 has been added to the blockchain!\n",
      "Hash: ef4f9a92fb424c173ab51b530d3f67ba836a362ef014a23f5d421483cab5ae5e\n",
      "\n",
      "Block #17 has been added to the blockchain!\n",
      "Hash: 62ab501530017003bb50a72b42b8882a6b838710f54c149132d437b299d7502e\n",
      "\n",
      "Block #18 has been added to the blockchain!\n",
      "Hash: 3b72f6dfc849b7f455411678dd2bb72e680acbf3d510a68a27bcab1e4b8fe3db\n",
      "\n",
      "Block #19 has been added to the blockchain!\n",
      "Hash: 5384fa388fdcb98c2a8d78d3c2419cd813494e49e8e341ba1184a4e2380abecd\n",
      "\n",
      "Block #20 has been added to the blockchain!\n",
      "Hash: 0a82ceedf78c1fc4204800d1431420fa9b6f29504b1b3c4e456d8c9b30c67f91\n",
      "\n"
     ]
    }
   ],
   "source": [
    "# Create the blockchain and add the genesis block\n",
    "blockchain = [create_genesis_block()]\n",
    "previous_block = blockchain[0]\n",
    "\n",
    "# How many blocks should we add to the chain\n",
    "# after the genesis block\n",
    "num_of_blocks_to_add = 20\n",
    "\n",
    "# Add blocks to the chain\n",
    "for i in range(0, num_of_blocks_to_add):\n",
    "    block_to_add = next_block(previous_block)\n",
    "    blockchain.append(block_to_add)\n",
    "    previous_block = block_to_add\n",
    "    # Tell everyone about it!\n",
    "    print (\"Block #{} has been added to the blockchain!\".format(block_to_add.index))\n",
    "    print (\"Hash: {}\\n\".format(block_to_add.hash) )"
   ]
  },
  {
   "cell_type": "markdown",
   "metadata": {},
   "source": [
    "## Homework: \n",
    "\n",
    "Implement the rest of the system as on or more Python modules. The code is explained [here](https://medium.com/crypto-currently/lets-make-the-tiniest-blockchain-bigger-ac360a328f4d)."
   ]
  },
  {
   "cell_type": "code",
   "execution_count": 8,
   "metadata": {},
   "outputs": [],
   "source": [
    "from flask import Flask\n",
    "from flask import request\n",
    "node = Flask(__name__)\n",
    "\n",
    "this_node_transactions = []\n",
    "\n",
    "@node.route('/txion', methods=['POST'])\n",
    "def transaction():\n",
    "    if request.method == 'POST':\n",
    "        new_txion = request.get_json()\n",
    "        this_node_transactions.append(new_txion)\n",
    "        print (\"New transaction\")\n",
    "        print(\"FROM: {}\".format(new_txion['from']))\n",
    "        print(\"TO: {}\".format(new_txion['to']))\n",
    "        print(\"AMOUNT: {}\\n\".format(new_txion['amount']))\n",
    "        return \"Transaction submission successful\\n\""
   ]
  },
  {
   "cell_type": "code",
   "execution_count": 9,
   "metadata": {},
   "outputs": [],
   "source": [
    "miner_address = \"q3nf394hjg-random-miner-address-34nf3i4nflkn3oi\"\n",
    "\n",
    "def proof_of_work(last_proof):\n",
    "    incrementor = last_proof + 1\n",
    "    while not (incrementor % 9 == 0 and incrementor % last_proof == 0):\n",
    "        incrementor += 1\n",
    "    return incrementor\n",
    "\n",
    "@node.route('/mine', methods = ['GET'])\n",
    "\n",
    "def mine():\n",
    "    last_block = blockchain[len(blockchain) - 1]\n",
    "    last_proof = last_block.data['proof-of-work']\n",
    "    proof = proof_of_work(last_proof)\n",
    "\n",
    "    this_node_transactions.append(\n",
    "        {\"from\": \"network\", \"to\": miner_address, \"amount\": 1}\n",
    "    )\n",
    "    new_block_data = {\n",
    "        \"proof-of-work\": proof,\n",
    "        \"transactions\": list(this_node_transactions)\n",
    "    }\n",
    "\n",
    "    new_block_index = last_block.index + 1\n",
    "    new_block_timestamp = this_timestamp = date.datetime.now()\n",
    "    last_block_hash = last_block.hash\n",
    "    \n",
    "    this_node_transactions[:] = []\n",
    "\n",
    "    mined_block = Block(\n",
    "        new_block_index,\n",
    "        new_block_timestamp,\n",
    "        new_block_data,\n",
    "        last_block_hash\n",
    "    )\n",
    "\n",
    "    blockchain.append(mined_block)\n",
    "\n",
    "    return json.dumps({\n",
    "        \"index\": new_block_index,\n",
    "        \"timestamp\": str(new_block_timestamp),\n",
    "        \"data\": new_block_data,\n",
    "        \"hash\": last_block_hash\n",
    "    }) + \"\\n\""
   ]
  },
  {
   "cell_type": "code",
   "execution_count": 10,
   "metadata": {},
   "outputs": [],
   "source": [
    "@node.route('/blocks', methods = ['GET'])\n",
    "def get_blocks():\n",
    "    chain_to_send = blockchain\n",
    "\n",
    "    for block in chain_to_send:\n",
    "        block_index = str(block.index)\n",
    "        block_timestamp = str(block.timestamp)\n",
    "        block_data = str(block.data)\n",
    "        block_hash = block.hash\n",
    "        block = {\n",
    "            \"index\": block_index,\n",
    "            \"timestamp\": block_timestamp,\n",
    "            \"data\": block_data,\n",
    "            \"hash\": block_hash\n",
    "        }\n",
    "    \n",
    "    chain_to_send = json.dumps(chain_to_send)\n",
    "    return chain_to_send\n",
    "\n",
    "def find_new_chains():\n",
    "    other_chains = []\n",
    "    for node_url in peer_nodes:\n",
    "        block = requests.get(node_url + \"/blocks\").content\n",
    "        block = json.loads(block)\n",
    "        other_chains.append(block)\n",
    "    return other_chains\n",
    "\n",
    "def consensus():\n",
    "    other_chains = find_new_chains()\n",
    "    longest_chain = blockchain\n",
    "    for chain in other_chains:\n",
    "        if len(longest_chain) < len(chain):\n",
    "            longest_chain = chain\n",
    "    blockchain = longest_chain"
   ]
  }
 ],
 "metadata": {
  "hide_input": false,
  "kernelspec": {
   "display_name": "Python 3.8.8 ('Blockchain': venv)",
   "language": "python",
   "name": "python3"
  },
  "language_info": {
   "codemirror_mode": {
    "name": "ipython",
    "version": 3
   },
   "file_extension": ".py",
   "mimetype": "text/x-python",
   "name": "python",
   "nbconvert_exporter": "python",
   "pygments_lexer": "ipython3",
   "version": "3.8.8"
  },
  "latex_envs": {
   "LaTeX_envs_menu_present": true,
   "autoclose": false,
   "autocomplete": true,
   "bibliofile": "biblio.bib",
   "cite_by": "apalike",
   "current_citInitial": 1,
   "eqLabelWithNumbers": true,
   "eqNumInitial": 1,
   "hotkeys": {
    "equation": "Ctrl-E",
    "itemize": "Ctrl-I"
   },
   "labels_anchors": false,
   "latex_user_defs": false,
   "report_style_numbering": false,
   "user_envs_cfg": false
  },
  "nbTranslate": {
   "displayLangs": [
    "*"
   ],
   "hotkey": "alt-t",
   "langInMainMenu": true,
   "sourceLang": "en",
   "targetLang": "fr",
   "useGoogleTranslate": true
  },
  "toc": {
   "base_numbering": 1,
   "nav_menu": {},
   "number_sections": true,
   "sideBar": true,
   "skip_h1_title": false,
   "title_cell": "Table of Contents",
   "title_sidebar": "Contents",
   "toc_cell": false,
   "toc_position": {},
   "toc_section_display": true,
   "toc_window_display": false
  },
  "varInspector": {
   "cols": {
    "lenName": 16,
    "lenType": 16,
    "lenVar": 40
   },
   "kernels_config": {
    "python": {
     "delete_cmd_postfix": "",
     "delete_cmd_prefix": "del ",
     "library": "var_list.py",
     "varRefreshCmd": "print(var_dic_list())"
    },
    "r": {
     "delete_cmd_postfix": ") ",
     "delete_cmd_prefix": "rm(",
     "library": "var_list.r",
     "varRefreshCmd": "cat(var_dic_list()) "
    }
   },
   "types_to_exclude": [
    "module",
    "function",
    "builtin_function_or_method",
    "instance",
    "_Feature"
   ],
   "window_display": false
  },
  "vscode": {
   "interpreter": {
    "hash": "fc5e3a9c5dc5513bfd091763c192e8ffde4e42970401620d335808e089405efa"
   }
  }
 },
 "nbformat": 4,
 "nbformat_minor": 2
}
